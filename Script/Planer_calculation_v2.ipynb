{
 "cells": [
  {
   "attachments": {},
   "cell_type": "markdown",
   "id": "f2f090c8-23d6-4865-b7a6-10e57f875e16",
   "metadata": {},
   "source": [
    "# Скрипт для расчета параметров разрабатывваемого планера\n",
    "\n",
    "Данный скрипт предназначен для расчета основных параметров модельных планеров для дальнейшего их проектирования в любой CAD среде. \n",
    "\n",
    "Примечание: данный скрипт написан в соответствии с пошаговой инструкцией \"Step-by-step guide to calculating a light aircraft.pdf\""
   ]
  },
  {
   "attachments": {},
   "cell_type": "markdown",
   "id": "0bf2ae20",
   "metadata": {},
   "source": [
    "### ШАГ 0 - Подключение стандартных библиотек для работы"
   ]
  },
  {
   "cell_type": "code",
   "execution_count": 1,
   "id": "22498b36",
   "metadata": {},
   "outputs": [],
   "source": [
    "import math\n",
    "import numpy as np\n",
    "import pandas as pd\n",
    "import matplotlib.pyplot as plt"
   ]
  },
  {
   "attachments": {},
   "cell_type": "markdown",
   "id": "00eae862-74ba-4e99-959e-312a8dba778e",
   "metadata": {},
   "source": [
    "### ШАГ 1 - Техническое задание\n",
    "\n",
    "Параметры на этом шаге задаются вами в соответствии с вашеми целями"
   ]
  },
  {
   "cell_type": "code",
   "execution_count": 2,
   "id": "3d012e01-dd70-4e28-939f-8661a67ca2de",
   "metadata": {},
   "outputs": [],
   "source": [
    "# ускорение свободного падения\n",
    "g = 9.81 # м/с2\n",
    "\n",
    "#вес мотора\n",
    "w_motor = 53 #грамм\n",
    "\n",
    "#количество моторов\n",
    "n_motor = 1 #шт\n",
    "\n",
    "# вес регулятора скорости\n",
    "w_ESC = 27 #грамм\n",
    "\n",
    "# Количество регуляторов скорости\n",
    "n_ESC = 1 #шт\n",
    "\n",
    "# Примечание: Количество моторов может отличаться от количества регуляторов скорости:\n",
    "# n_motor >= n_ESC\n",
    "# Связано это с тем, что к некоторым моделям ESC можно подключить более одного двигателя\n",
    "\n",
    "# вес приемника управления\n",
    "w_receiver = 15 #грамм, модель \"FS-iA6B\"\n",
    "# Примечание: на борту планера могут быть и другие приёмники/передатчики. Основной приемник всегда один.\n",
    "\n",
    "#вес сервопривода\n",
    "w_servo = 13.4 #грамм, модель \"TowerPro MG90\"\n",
    "\n",
    "#количество сервоприводов\n",
    "n_servo = 6 #шт: на 2 Элерона, 1 Киль и 1 стабилизатор, 2 закрылка\n",
    "\n",
    "#вес одной аккумуляторной ячейки\n",
    "w_bat_cell = 49 #грамм, аккумуляторы типоразмера 18650\n",
    "\n",
    "#количество ячеек в сборке\n",
    "n_bat_cell = 6 #шт: схема сборки 3S2P\n",
    "\n",
    "#вес платы BMS\n",
    "w_BMS = 8.7 #грамм, модель \"https://market.yandex.ru/product--bms-kontroller-3s-40a-dlia-li-ion-iacheek-3-7v-18650-26650/962042505?cpc=2T9kpZW_tO7nKULPmvl-cva4O6LDJVEop73t09BR7d3y2ij9fpFed_mt24qkdfwQJ7Pf54fCx7iH058HGpijKiwhtUS_xHXpyrsLpwIxzeCVOFnJ8aZybHKGxXlB3MZ5vFFjLrIPIIUv9uOFnuHc82L9xa8Sz6aJhyRD8PvePM2yJCqBYsF0pUAJXoRPGebJCdcoqBKZ5Y1Pk8BY0jZ_cD9ljHs6ZXBMkdryP_U8z2kQvmxP5Sf6SoNRSHBEGSYnNzJr1iWyUS-KdgHCFAMtlQ%2C%2C&from-show-uid=16834608512406912852400001&sku=101324535512&do-waremd5=veTjfe9vPLUWdF41vjtbng&sponsored=1&cpa=1\"\n",
    "\n",
    "#вес аккумуляторной сборки/покупного аккумулятора\n",
    "w_bat = (w_bat_cell*n_bat_cell + w_BMS)*1.1 # масса самостоятельно собираемой батареи, грамм\n",
    "# w_bat = 145 # масса покупного аккумулятора, грамм\n",
    "\n",
    "#вес полезной нагрузки\n",
    "w_load = 250 #грамм, под полезной нагрузкой можно понимать любое доп. оборудование\n",
    "\n",
    "# Расчет массы внутренностей планера\n",
    "W_insides = (w_motor*n_motor + w_ESC*n_ESC + w_servo*n_servo + w_bat + w_receiver + w_load) # грамм\n",
    "\n",
    "# Расчет взлетной массы планера в первом приближении\n",
    "W_plane = W_insides*2 # грамм\n",
    "\n",
    "# Расчет взлетного веса планера в первом приближении\n",
    "G_plane = W_plane/1000 * g # Н\n",
    "\n",
    "# Удельное давление на крыло\n",
    "p_wing = np.array([30, 40, 50, 60])/10*g # г/дм2 --> Н/м2\n",
    "\n",
    "# Профиль крыла: Р III (15.5%)\n",
    "\n",
    "# Профиль оперения: (не определено)\n",
    "\n",
    "# удлинение крыла \n",
    "lmd_wing = np.array([16, 15, 14, 13])"
   ]
  },
  {
   "cell_type": "code",
   "execution_count": 3,
   "id": "e5ca0428",
   "metadata": {},
   "outputs": [
    {
     "data": {
      "text/html": [
       "<div>\n",
       "<style scoped>\n",
       "    .dataframe tbody tr th:only-of-type {\n",
       "        vertical-align: middle;\n",
       "    }\n",
       "\n",
       "    .dataframe tbody tr th {\n",
       "        vertical-align: top;\n",
       "    }\n",
       "\n",
       "    .dataframe thead th {\n",
       "        text-align: right;\n",
       "    }\n",
       "</style>\n",
       "<table border=\"1\" class=\"dataframe\">\n",
       "  <thead>\n",
       "    <tr style=\"text-align: right;\">\n",
       "      <th></th>\n",
       "      <th>0</th>\n",
       "    </tr>\n",
       "  </thead>\n",
       "  <tbody>\n",
       "    <tr>\n",
       "      <th>0</th>\n",
       "      <td>758.37</td>\n",
       "    </tr>\n",
       "    <tr>\n",
       "      <th>1</th>\n",
       "      <td>1516.74</td>\n",
       "    </tr>\n",
       "  </tbody>\n",
       "</table>\n",
       "</div>"
      ],
      "text/plain": [
       "         0\n",
       "0   758.37\n",
       "1  1516.74"
      ]
     },
     "execution_count": 3,
     "metadata": {},
     "output_type": "execute_result"
    }
   ],
   "source": [
    "out = np.array([W_insides,W_plane])\n",
    "pd.DataFrame(out)"
   ]
  },
  {
   "cell_type": "code",
   "execution_count": 4,
   "id": "3adafa7f",
   "metadata": {},
   "outputs": [
    {
     "data": {
      "text/html": [
       "<div>\n",
       "<style scoped>\n",
       "    .dataframe tbody tr th:only-of-type {\n",
       "        vertical-align: middle;\n",
       "    }\n",
       "\n",
       "    .dataframe tbody tr th {\n",
       "        vertical-align: top;\n",
       "    }\n",
       "\n",
       "    .dataframe thead th {\n",
       "        text-align: right;\n",
       "    }\n",
       "</style>\n",
       "<table border=\"1\" class=\"dataframe\">\n",
       "  <thead>\n",
       "    <tr style=\"text-align: right;\">\n",
       "      <th></th>\n",
       "      <th>0</th>\n",
       "    </tr>\n",
       "  </thead>\n",
       "  <tbody>\n",
       "    <tr>\n",
       "      <th>0</th>\n",
       "      <td>29.43</td>\n",
       "    </tr>\n",
       "    <tr>\n",
       "      <th>1</th>\n",
       "      <td>39.24</td>\n",
       "    </tr>\n",
       "    <tr>\n",
       "      <th>2</th>\n",
       "      <td>49.05</td>\n",
       "    </tr>\n",
       "    <tr>\n",
       "      <th>3</th>\n",
       "      <td>58.86</td>\n",
       "    </tr>\n",
       "  </tbody>\n",
       "</table>\n",
       "</div>"
      ],
      "text/plain": [
       "       0\n",
       "0  29.43\n",
       "1  39.24\n",
       "2  49.05\n",
       "3  58.86"
      ]
     },
     "execution_count": 4,
     "metadata": {},
     "output_type": "execute_result"
    }
   ],
   "source": [
    "pd.DataFrame(p_wing)\n"
   ]
  },
  {
   "attachments": {},
   "cell_type": "markdown",
   "id": "659763e5-e6a3-408d-a74d-c6a3a05d9c35",
   "metadata": {},
   "source": [
    "## Компоновочный расчет модели"
   ]
  },
  {
   "attachments": {},
   "cell_type": "markdown",
   "id": "751804de",
   "metadata": {},
   "source": [
    "### 1. Определение полной несущей площади модели"
   ]
  },
  {
   "cell_type": "code",
   "execution_count": 5,
   "id": "683fa41b",
   "metadata": {},
   "outputs": [
    {
     "data": {
      "text/html": [
       "<div>\n",
       "<style scoped>\n",
       "    .dataframe tbody tr th:only-of-type {\n",
       "        vertical-align: middle;\n",
       "    }\n",
       "\n",
       "    .dataframe tbody tr th {\n",
       "        vertical-align: top;\n",
       "    }\n",
       "\n",
       "    .dataframe thead th {\n",
       "        text-align: right;\n",
       "    }\n",
       "</style>\n",
       "<table border=\"1\" class=\"dataframe\">\n",
       "  <thead>\n",
       "    <tr style=\"text-align: right;\">\n",
       "      <th></th>\n",
       "      <th>p30</th>\n",
       "      <th>p40</th>\n",
       "      <th>p50</th>\n",
       "      <th>p60</th>\n",
       "    </tr>\n",
       "  </thead>\n",
       "  <tbody>\n",
       "    <tr>\n",
       "      <th>Общая, дм2</th>\n",
       "      <td>51.0</td>\n",
       "      <td>38.0</td>\n",
       "      <td>30.0</td>\n",
       "      <td>25.0</td>\n",
       "    </tr>\n",
       "    <tr>\n",
       "      <th>Стабилизатор, дм2</th>\n",
       "      <td>6.0</td>\n",
       "      <td>4.0</td>\n",
       "      <td>3.0</td>\n",
       "      <td>3.0</td>\n",
       "    </tr>\n",
       "    <tr>\n",
       "      <th>Крыло, дм2</th>\n",
       "      <td>45.0</td>\n",
       "      <td>34.0</td>\n",
       "      <td>27.0</td>\n",
       "      <td>22.0</td>\n",
       "    </tr>\n",
       "  </tbody>\n",
       "</table>\n",
       "</div>"
      ],
      "text/plain": [
       "                    p30   p40   p50   p60\n",
       "Общая, дм2         51.0  38.0  30.0  25.0\n",
       "Стабилизатор, дм2   6.0   4.0   3.0   3.0\n",
       "Крыло, дм2         45.0  34.0  27.0  22.0"
      ]
     },
     "execution_count": 5,
     "metadata": {},
     "output_type": "execute_result"
    }
   ],
   "source": [
    "# Определение полной несущей площади модели\n",
    "S_mod = G_plane/p_wing # м2\n",
    "\n",
    "# Определение площади стабилизатора\n",
    "S_stab = S_mod/9 # м2\n",
    "\n",
    "# Определение площади крыла\n",
    "S_wing = S_mod - S_stab # м2\n",
    "\n",
    "# вывод результатов блока\n",
    "Data_S = np.array([S_mod,S_stab,S_wing])*100 # м2 --> дм2\n",
    "pd.DataFrame(Data_S,\n",
    "             index=['Общая, дм2', 'Стабилизатор, дм2', 'Крыло, дм2'], \n",
    "             columns=['p30','p40','p50','p60',]).round(0) # дм2"
   ]
  },
  {
   "cell_type": "code",
   "execution_count": 6,
   "id": "8283782f",
   "metadata": {},
   "outputs": [
    {
     "data": {
      "text/html": [
       "<div>\n",
       "<style scoped>\n",
       "    .dataframe tbody tr th:only-of-type {\n",
       "        vertical-align: middle;\n",
       "    }\n",
       "\n",
       "    .dataframe tbody tr th {\n",
       "        vertical-align: top;\n",
       "    }\n",
       "\n",
       "    .dataframe thead th {\n",
       "        text-align: right;\n",
       "    }\n",
       "</style>\n",
       "<table border=\"1\" class=\"dataframe\">\n",
       "  <thead>\n",
       "    <tr style=\"text-align: right;\">\n",
       "      <th></th>\n",
       "      <th>p30</th>\n",
       "      <th>p40</th>\n",
       "      <th>p50</th>\n",
       "      <th>p60</th>\n",
       "    </tr>\n",
       "  </thead>\n",
       "  <tbody>\n",
       "    <tr>\n",
       "      <th>Длина Крыла, мм</th>\n",
       "      <td>2682.0</td>\n",
       "      <td>2249.0</td>\n",
       "      <td>1943.0</td>\n",
       "      <td>1709.0</td>\n",
       "    </tr>\n",
       "    <tr>\n",
       "      <th>САХ Крыла, мм</th>\n",
       "      <td>168.0</td>\n",
       "      <td>150.0</td>\n",
       "      <td>139.0</td>\n",
       "      <td>131.0</td>\n",
       "    </tr>\n",
       "  </tbody>\n",
       "</table>\n",
       "</div>"
      ],
      "text/plain": [
       "                    p30     p40     p50     p60\n",
       "Длина Крыла, мм  2682.0  2249.0  1943.0  1709.0\n",
       "САХ Крыла, мм     168.0   150.0   139.0   131.0"
      ]
     },
     "execution_count": 6,
     "metadata": {},
     "output_type": "execute_result"
    }
   ],
   "source": [
    "# Определение размаха крыла и САХ\n",
    "l_wing = np.zeros(4)\n",
    "b_wing = np.zeros(4)\n",
    "for i in range (4):\n",
    "    l_wing[i] = math.sqrt(lmd_wing[i]*S_wing[i]) # м\n",
    "    b_wing[i] = S_wing[i]/l_wing[i] # м\n",
    "#l_wing = math.sqrt(lmd_wing*S_wing) # м\n",
    "out1 = np.array([l_wing*1000,b_wing*1000]) # мм\n",
    "pd.DataFrame(out1,\n",
    "             index=['Длина Крыла, мм','САХ Крыла, мм'], \n",
    "             columns=['p30','p40','p50','p60',]).round(0)"
   ]
  },
  {
   "cell_type": "code",
   "execution_count": 7,
   "id": "b159db8f",
   "metadata": {},
   "outputs": [
    {
     "data": {
      "text/html": [
       "<div>\n",
       "<style scoped>\n",
       "    .dataframe tbody tr th:only-of-type {\n",
       "        vertical-align: middle;\n",
       "    }\n",
       "\n",
       "    .dataframe tbody tr th {\n",
       "        vertical-align: top;\n",
       "    }\n",
       "\n",
       "    .dataframe thead th {\n",
       "        text-align: right;\n",
       "    }\n",
       "</style>\n",
       "<table border=\"1\" class=\"dataframe\">\n",
       "  <thead>\n",
       "    <tr style=\"text-align: right;\">\n",
       "      <th></th>\n",
       "      <th>p30</th>\n",
       "      <th>p40</th>\n",
       "      <th>p50</th>\n",
       "      <th>p60</th>\n",
       "    </tr>\n",
       "  </thead>\n",
       "  <tbody>\n",
       "    <tr>\n",
       "      <th>Длина Стаб-ра, мм</th>\n",
       "      <td>556.0</td>\n",
       "      <td>481.0</td>\n",
       "      <td>431.0</td>\n",
       "      <td>393.0</td>\n",
       "    </tr>\n",
       "    <tr>\n",
       "      <th>САХ Стаб-ра, мм</th>\n",
       "      <td>101.0</td>\n",
       "      <td>88.0</td>\n",
       "      <td>78.0</td>\n",
       "      <td>71.0</td>\n",
       "    </tr>\n",
       "  </tbody>\n",
       "</table>\n",
       "</div>"
      ],
      "text/plain": [
       "                     p30    p40    p50    p60\n",
       "Длина Стаб-ра, мм  556.0  481.0  431.0  393.0\n",
       "САХ Стаб-ра, мм    101.0   88.0   78.0   71.0"
      ]
     },
     "execution_count": 7,
     "metadata": {},
     "output_type": "execute_result"
    }
   ],
   "source": [
    "# Определение размаха и САХ стабилизаторов\n",
    "\n",
    "lmd_stab = 5.5\n",
    "l_stab = np.zeros(4)\n",
    "b_stab = np.zeros(4)\n",
    "for i in range (4):\n",
    "    l_stab[i] = math.sqrt(lmd_stab*S_stab[i]) # м\n",
    "    b_stab[i] = S_stab[i]/l_stab[i] # м\n",
    "#l_wing = math.sqrt(lmd_wing*S_wing) # м\n",
    "out2 = np.array([l_stab*1000,b_stab*1000]) # мм\n",
    "pd.DataFrame(out2,index=['Длина Стаб-ра, мм','САХ Стаб-ра, мм'], columns=['p30','p40','p50','p60',]).round(0)"
   ]
  },
  {
   "cell_type": "code",
   "execution_count": 8,
   "id": "ddb0d7d7",
   "metadata": {},
   "outputs": [
    {
     "data": {
      "text/html": [
       "<div>\n",
       "<style scoped>\n",
       "    .dataframe tbody tr th:only-of-type {\n",
       "        vertical-align: middle;\n",
       "    }\n",
       "\n",
       "    .dataframe tbody tr th {\n",
       "        vertical-align: top;\n",
       "    }\n",
       "\n",
       "    .dataframe thead th {\n",
       "        text-align: right;\n",
       "    }\n",
       "</style>\n",
       "<table border=\"1\" class=\"dataframe\">\n",
       "  <thead>\n",
       "    <tr style=\"text-align: right;\">\n",
       "      <th></th>\n",
       "      <th>p30</th>\n",
       "      <th>p40</th>\n",
       "      <th>p50</th>\n",
       "      <th>p60</th>\n",
       "    </tr>\n",
       "  </thead>\n",
       "  <tbody>\n",
       "    <tr>\n",
       "      <th>Длина хорды у основания крыла, мм</th>\n",
       "      <td>192.0</td>\n",
       "      <td>171.0</td>\n",
       "      <td>159.0</td>\n",
       "      <td>150.0</td>\n",
       "    </tr>\n",
       "    <tr>\n",
       "      <th>Длина хорды у конца крыла, мм</th>\n",
       "      <td>144.0</td>\n",
       "      <td>128.0</td>\n",
       "      <td>119.0</td>\n",
       "      <td>113.0</td>\n",
       "    </tr>\n",
       "    <tr>\n",
       "      <th>Длина хорды у основания стаб-ра, мм</th>\n",
       "      <td>116.0</td>\n",
       "      <td>100.0</td>\n",
       "      <td>89.0</td>\n",
       "      <td>82.0</td>\n",
       "    </tr>\n",
       "    <tr>\n",
       "      <th>Длина хорды у конца стаб-ра, мм</th>\n",
       "      <td>87.0</td>\n",
       "      <td>75.0</td>\n",
       "      <td>67.0</td>\n",
       "      <td>61.0</td>\n",
       "    </tr>\n",
       "  </tbody>\n",
       "</table>\n",
       "</div>"
      ],
      "text/plain": [
       "                                       p30    p40    p50    p60\n",
       "Длина хорды у основания крыла, мм    192.0  171.0  159.0  150.0\n",
       "Длина хорды у конца крыла, мм        144.0  128.0  119.0  113.0\n",
       "Длина хорды у основания стаб-ра, мм  116.0  100.0   89.0   82.0\n",
       "Длина хорды у конца стаб-ра, мм       87.0   75.0   67.0   61.0"
      ]
     },
     "execution_count": 8,
     "metadata": {},
     "output_type": "execute_result"
    }
   ],
   "source": [
    "# Определение размеров корневых и концевых хорд крыла и стабилизатора\n",
    "\n",
    "# Коэффициент сужения крыла и стабилизатора\n",
    "k_dl = 0.75 # б/р\n",
    "\n",
    "b_stab_base = 2 * b_stab/ (1 + k_dl) # м\n",
    "b_stab_end = b_stab_base * k_dl # м\n",
    "\n",
    "b_wing_base = 2 * b_wing/ (1 + k_dl) # м\n",
    "b_wing_end = b_wing_base * k_dl # м\n",
    "\n",
    "out3 = np.array([b_wing_base,b_wing_end,b_stab_base,b_stab_end])*1000# мм\n",
    "\n",
    "pd.DataFrame(out3,index=['Длина хорды у основания крыла, мм',\n",
    "                         'Длина хорды у конца крыла, мм',\n",
    "                         'Длина хорды у основания стаб-ра, мм',\n",
    "                         'Длина хорды у конца стаб-ра, мм'],\n",
    "                         columns=['p30','p40','p50','p60',]).round(0)"
   ]
  },
  {
   "cell_type": "code",
   "execution_count": 9,
   "id": "197b4def",
   "metadata": {},
   "outputs": [
    {
     "data": {
      "text/html": [
       "<div>\n",
       "<style scoped>\n",
       "    .dataframe tbody tr th:only-of-type {\n",
       "        vertical-align: middle;\n",
       "    }\n",
       "\n",
       "    .dataframe tbody tr th {\n",
       "        vertical-align: top;\n",
       "    }\n",
       "\n",
       "    .dataframe thead th {\n",
       "        text-align: right;\n",
       "    }\n",
       "</style>\n",
       "<table border=\"1\" class=\"dataframe\">\n",
       "  <thead>\n",
       "    <tr style=\"text-align: right;\">\n",
       "      <th></th>\n",
       "      <th>p30</th>\n",
       "      <th>p40</th>\n",
       "      <th>p50</th>\n",
       "      <th>p60</th>\n",
       "    </tr>\n",
       "  </thead>\n",
       "  <tbody>\n",
       "    <tr>\n",
       "      <th>Плечо гориз. опер-я, мм</th>\n",
       "      <td>804.0</td>\n",
       "      <td>720.0</td>\n",
       "      <td>666.0</td>\n",
       "      <td>631.0</td>\n",
       "    </tr>\n",
       "  </tbody>\n",
       "</table>\n",
       "</div>"
      ],
      "text/plain": [
       "                           p30    p40    p50    p60\n",
       "Плечо гориз. опер-я, мм  804.0  720.0  666.0  631.0"
      ]
     },
     "execution_count": 9,
     "metadata": {},
     "output_type": "execute_result"
    }
   ],
   "source": [
    "# Определение плеча горизонтального оперения\n",
    "\n",
    "# Коэффициент статической устойчивости\n",
    "A = 0.6 # б/р\n",
    "\n",
    "# Плечо горизонтального оперения\n",
    "L_to = A * b_wing * 8 # м\n",
    "out4 = L_to*1000 # мм\n",
    "out4\n",
    "pd_out4 = pd.DataFrame(out4,columns=['Плечо гориз. опер-я, мм'],index =['p30','p40','p50','p60'])\n",
    "pd_out4.T.round(0)"
   ]
  },
  {
   "cell_type": "code",
   "execution_count": 10,
   "id": "024a5ed0",
   "metadata": {},
   "outputs": [
    {
     "data": {
      "text/html": [
       "<div>\n",
       "<style scoped>\n",
       "    .dataframe tbody tr th:only-of-type {\n",
       "        vertical-align: middle;\n",
       "    }\n",
       "\n",
       "    .dataframe tbody tr th {\n",
       "        vertical-align: top;\n",
       "    }\n",
       "\n",
       "    .dataframe thead th {\n",
       "        text-align: right;\n",
       "    }\n",
       "</style>\n",
       "<table border=\"1\" class=\"dataframe\">\n",
       "  <thead>\n",
       "    <tr style=\"text-align: right;\">\n",
       "      <th></th>\n",
       "      <th>p30</th>\n",
       "      <th>p40</th>\n",
       "      <th>p50</th>\n",
       "      <th>p60</th>\n",
       "    </tr>\n",
       "  </thead>\n",
       "  <tbody>\n",
       "    <tr>\n",
       "      <th>Расположение Ц.Т. отн-но начала хорды, мм</th>\n",
       "      <td>56.0</td>\n",
       "      <td>50.0</td>\n",
       "      <td>47.0</td>\n",
       "      <td>44.0</td>\n",
       "    </tr>\n",
       "  </tbody>\n",
       "</table>\n",
       "</div>"
      ],
      "text/plain": [
       "                                            p30   p40   p50   p60\n",
       "Расположение Ц.Т. отн-но начала хорды, мм  56.0  50.0  47.0  44.0"
      ]
     },
     "execution_count": 10,
     "metadata": {},
     "output_type": "execute_result"
    }
   ],
   "source": [
    "# Определение положения центра тяжести модели как расстояние от начала хорды крыла\n",
    "\n",
    "X_t = 0.336 * b_wing  # м\n",
    "out5 = X_t * 1000 # мм\n",
    "pd_out5 = pd.DataFrame(out5,columns=['Расположение Ц.Т. отн-но начала хорды, мм'],index =['p30','p40','p50','p60'])\n",
    "pd_out5.T.round(0)"
   ]
  },
  {
   "cell_type": "code",
   "execution_count": 11,
   "id": "655d4b01",
   "metadata": {},
   "outputs": [],
   "source": [
    "# Проверочный расчет боковой устойчивости модели\n",
    "\n"
   ]
  },
  {
   "attachments": {},
   "cell_type": "markdown",
   "id": "b41bb68a",
   "metadata": {},
   "source": [
    "## Аэродинамический расчет"
   ]
  },
  {
   "attachments": {},
   "cell_type": "markdown",
   "id": "a13e3ebc",
   "metadata": {},
   "source": [
    "Выполним перенос данных $C_{y}$, $C_{x}$, $C_{m}$ из атласа для выбранного профиля крыла и выведем их графически"
   ]
  },
  {
   "cell_type": "code",
   "execution_count": 12,
   "id": "ed578f95",
   "metadata": {},
   "outputs": [
    {
     "data": {
      "text/html": [
       "<div>\n",
       "<style scoped>\n",
       "    .dataframe tbody tr th:only-of-type {\n",
       "        vertical-align: middle;\n",
       "    }\n",
       "\n",
       "    .dataframe tbody tr th {\n",
       "        vertical-align: top;\n",
       "    }\n",
       "\n",
       "    .dataframe thead th {\n",
       "        text-align: right;\n",
       "    }\n",
       "</style>\n",
       "<table border=\"1\" class=\"dataframe\">\n",
       "  <thead>\n",
       "    <tr style=\"text-align: right;\">\n",
       "      <th></th>\n",
       "      <th>Угол атаки_град</th>\n",
       "      <th>Cy</th>\n",
       "      <th>Cx</th>\n",
       "      <th>Cm</th>\n",
       "    </tr>\n",
       "  </thead>\n",
       "  <tbody>\n",
       "    <tr>\n",
       "      <th>0</th>\n",
       "      <td>-4</td>\n",
       "      <td>0.04</td>\n",
       "      <td>0.0142</td>\n",
       "      <td>0.045</td>\n",
       "    </tr>\n",
       "    <tr>\n",
       "      <th>1</th>\n",
       "      <td>0</td>\n",
       "      <td>0.30</td>\n",
       "      <td>0.0018</td>\n",
       "      <td>0.109</td>\n",
       "    </tr>\n",
       "    <tr>\n",
       "      <th>2</th>\n",
       "      <td>4</td>\n",
       "      <td>0.56</td>\n",
       "      <td>0.0032</td>\n",
       "      <td>0.172</td>\n",
       "    </tr>\n",
       "    <tr>\n",
       "      <th>3</th>\n",
       "      <td>8</td>\n",
       "      <td>0.84</td>\n",
       "      <td>0.0059</td>\n",
       "      <td>0.240</td>\n",
       "    </tr>\n",
       "    <tr>\n",
       "      <th>4</th>\n",
       "      <td>12</td>\n",
       "      <td>1.08</td>\n",
       "      <td>0.0090</td>\n",
       "      <td>0.298</td>\n",
       "    </tr>\n",
       "    <tr>\n",
       "      <th>5</th>\n",
       "      <td>16</td>\n",
       "      <td>1.34</td>\n",
       "      <td>0.0136</td>\n",
       "      <td>0.360</td>\n",
       "    </tr>\n",
       "    <tr>\n",
       "      <th>6</th>\n",
       "      <td>20</td>\n",
       "      <td>1.56</td>\n",
       "      <td>0.0190</td>\n",
       "      <td>0.417</td>\n",
       "    </tr>\n",
       "    <tr>\n",
       "      <th>7</th>\n",
       "      <td>24</td>\n",
       "      <td>1.78</td>\n",
       "      <td>0.0250</td>\n",
       "      <td>0.467</td>\n",
       "    </tr>\n",
       "  </tbody>\n",
       "</table>\n",
       "</div>"
      ],
      "text/plain": [
       "   Угол атаки_град    Cy      Cx     Cm\n",
       "0               -4  0.04  0.0142  0.045\n",
       "1                0  0.30  0.0018  0.109\n",
       "2                4  0.56  0.0032  0.172\n",
       "3                8  0.84  0.0059  0.240\n",
       "4               12  1.08  0.0090  0.298\n",
       "5               16  1.34  0.0136  0.360\n",
       "6               20  1.56  0.0190  0.417\n",
       "7               24  1.78  0.0250  0.467"
      ]
     },
     "execution_count": 12,
     "metadata": {},
     "output_type": "execute_result"
    }
   ],
   "source": [
    "#Импорт данных из атласа профилей\n",
    "df_data = pd.read_csv('../Script/Profile_calc4/Р-III (15,5%)-Аэродинамические характеристики.csv',delimiter=',')\n",
    "data = df_data.to_numpy()\n",
    "df_data"
   ]
  },
  {
   "cell_type": "code",
   "execution_count": 13,
   "id": "870d0f81",
   "metadata": {},
   "outputs": [
    {
     "data": {
      "image/png": "[encoded data removed]",
      "text/plain": [
       "<Figure size 432x432 with 1 Axes>"
      ]
     },
     "metadata": {
      "needs_background": "light"
     },
     "output_type": "display_data"
    }
   ],
   "source": [
    "# plot the data\n",
    "fig, ax = plt.subplots(figsize=(6, 6))\n",
    "ax.plot(data[:,0], data[:,1],color='tab:blue',label=\"Cy\")#, \n",
    "ax.plot(data[:,0], data[:,2], color='tab:orange',label=\"Cx\")\n",
    "ax.plot(data[:,0], data[:,3], color='tab:green',label=\"Cm\")\n",
    "ax.set_xlabel(\"angles, grad\")\n",
    "ax.set_ylabel(\"Cy,Cx,Cm\")\n",
    "ax.legend()\n",
    "plt.show()"
   ]
  },
  {
   "attachments": {},
   "cell_type": "markdown",
   "id": "cb777b02",
   "metadata": {},
   "source": [
    "Построим поляру для выбранного профиля"
   ]
  },
  {
   "cell_type": "code",
   "execution_count": 14,
   "id": "08ee86a5",
   "metadata": {},
   "outputs": [
    {
     "data": {
      "image/png": "[encoded data removed]",
      "text/plain": [
       "<Figure size 432x432 with 1 Axes>"
      ]
     },
     "metadata": {
      "needs_background": "light"
     },
     "output_type": "display_data"
    }
   ],
   "source": [
    "#plot data\n",
    "fig1, ax = plt.subplots(figsize=(6, 6))\n",
    "ax.plot(data[:,2], data[:,1],color='tab:blue')\n",
    "ax.set_xlabel(\"Cx_крыла\")\n",
    "ax.set_ylabel(\"Cy\")\n",
    "#ax.legend()\n",
    "plt.show()"
   ]
  },
  {
   "attachments": {},
   "cell_type": "markdown",
   "id": "2fa4071e",
   "metadata": {},
   "source": [
    "На текущий момент у нас определен только коэффициент сопротивления крыла $C_{x_{кр}}$. Полный коэффициент сопротивления будет равен:\n",
    "$$C_{x}= C_{x_{кр}} + 1,15*C_{x_{вр}} $$\n",
    "\n",
    "Вредное сопротивление $C_{x_{вр}}$ поределим как $$C_{x_{вр}} = C_{x_{ф}} + C_{x_{стаб}} $$\n",
    "\n"
   ]
  },
  {
   "cell_type": "code",
   "execution_count": 15,
   "id": "0ae99bd5",
   "metadata": {},
   "outputs": [
    {
     "data": {
      "text/html": [
       "<div>\n",
       "<style scoped>\n",
       "    .dataframe tbody tr th:only-of-type {\n",
       "        vertical-align: middle;\n",
       "    }\n",
       "\n",
       "    .dataframe tbody tr th {\n",
       "        vertical-align: top;\n",
       "    }\n",
       "\n",
       "    .dataframe thead th {\n",
       "        text-align: right;\n",
       "    }\n",
       "</style>\n",
       "<table border=\"1\" class=\"dataframe\">\n",
       "  <thead>\n",
       "    <tr style=\"text-align: right;\">\n",
       "      <th></th>\n",
       "      <th>C_x_bad</th>\n",
       "    </tr>\n",
       "  </thead>\n",
       "  <tbody>\n",
       "    <tr>\n",
       "      <th>p30</th>\n",
       "      <td>0.041956</td>\n",
       "    </tr>\n",
       "    <tr>\n",
       "      <th>p40</th>\n",
       "      <td>0.055942</td>\n",
       "    </tr>\n",
       "    <tr>\n",
       "      <th>p50</th>\n",
       "      <td>0.069927</td>\n",
       "    </tr>\n",
       "    <tr>\n",
       "      <th>p60</th>\n",
       "      <td>0.083913</td>\n",
       "    </tr>\n",
       "  </tbody>\n",
       "</table>\n",
       "</div>"
      ],
      "text/plain": [
       "      C_x_bad\n",
       "p30  0.041956\n",
       "p40  0.055942\n",
       "p50  0.069927\n",
       "p60  0.083913"
      ]
     },
     "execution_count": 15,
     "metadata": {},
     "output_type": "execute_result"
    }
   ],
   "source": [
    "#Расчет C_x_вр для каждого типоразмера крыла\n",
    "C_x_fz = 0.12 #бр, кфт сопротивления каплевидной формы (Таблица 1)\n",
    "a_fz = 0.05 # м, половина высоты фюзеляжа\n",
    "b_fz = 0.07 # м, половина ширины фюзеляжа\n",
    "C_x_stab = 0.15\n",
    "\n",
    "C_x_motorbox = 0.12\n",
    "r_motorbox = 0.007 # м, радиус корпуса под двигатель\n",
    "\n",
    "C_x_bad = (S_wing/(C_x_fz*math.pi*a_fz + C_x_motorbox*r_motorbox**2))**-1\n",
    "pd.DataFrame(C_x_bad,index=[\"p30\",\"p40\",\"p50\",\"p60\"],columns=[\"C_x_bad\"])\n"
   ]
  },
  {
   "attachments": {},
   "cell_type": "markdown",
   "id": "b8891ea6",
   "metadata": {},
   "source": [
    "Рассчитаем полное сопротивление модели"
   ]
  },
  {
   "cell_type": "code",
   "execution_count": 16,
   "id": "cec33a76",
   "metadata": {},
   "outputs": [
    {
     "data": {
      "text/html": [
       "<div>\n",
       "<style scoped>\n",
       "    .dataframe tbody tr th:only-of-type {\n",
       "        vertical-align: middle;\n",
       "    }\n",
       "\n",
       "    .dataframe tbody tr th {\n",
       "        vertical-align: top;\n",
       "    }\n",
       "\n",
       "    .dataframe thead th {\n",
       "        text-align: right;\n",
       "    }\n",
       "</style>\n",
       "<table border=\"1\" class=\"dataframe\">\n",
       "  <thead>\n",
       "    <tr style=\"text-align: right;\">\n",
       "      <th></th>\n",
       "      <th>p30</th>\n",
       "      <th>p40</th>\n",
       "      <th>p50</th>\n",
       "      <th>p60</th>\n",
       "    </tr>\n",
       "  </thead>\n",
       "  <tbody>\n",
       "    <tr>\n",
       "      <th>-4.0</th>\n",
       "      <td>0.06245</td>\n",
       "      <td>0.078533</td>\n",
       "      <td>0.094617</td>\n",
       "      <td>0.1107</td>\n",
       "    </tr>\n",
       "    <tr>\n",
       "      <th>0.0</th>\n",
       "      <td>0.05005</td>\n",
       "      <td>0.066133</td>\n",
       "      <td>0.082217</td>\n",
       "      <td>0.0983</td>\n",
       "    </tr>\n",
       "    <tr>\n",
       "      <th>4.0</th>\n",
       "      <td>0.05145</td>\n",
       "      <td>0.067533</td>\n",
       "      <td>0.083617</td>\n",
       "      <td>0.0997</td>\n",
       "    </tr>\n",
       "    <tr>\n",
       "      <th>8.0</th>\n",
       "      <td>0.05415</td>\n",
       "      <td>0.070233</td>\n",
       "      <td>0.086317</td>\n",
       "      <td>0.1024</td>\n",
       "    </tr>\n",
       "    <tr>\n",
       "      <th>12.0</th>\n",
       "      <td>0.05725</td>\n",
       "      <td>0.073333</td>\n",
       "      <td>0.089417</td>\n",
       "      <td>0.1055</td>\n",
       "    </tr>\n",
       "    <tr>\n",
       "      <th>16.0</th>\n",
       "      <td>0.06185</td>\n",
       "      <td>0.077933</td>\n",
       "      <td>0.094017</td>\n",
       "      <td>0.1101</td>\n",
       "    </tr>\n",
       "    <tr>\n",
       "      <th>20.0</th>\n",
       "      <td>0.06725</td>\n",
       "      <td>0.083333</td>\n",
       "      <td>0.099417</td>\n",
       "      <td>0.1155</td>\n",
       "    </tr>\n",
       "    <tr>\n",
       "      <th>24.0</th>\n",
       "      <td>0.07325</td>\n",
       "      <td>0.089333</td>\n",
       "      <td>0.105417</td>\n",
       "      <td>0.1215</td>\n",
       "    </tr>\n",
       "  </tbody>\n",
       "</table>\n",
       "</div>"
      ],
      "text/plain": [
       "           p30       p40       p50     p60\n",
       "-4.0   0.06245  0.078533  0.094617  0.1107\n",
       " 0.0   0.05005  0.066133  0.082217  0.0983\n",
       " 4.0   0.05145  0.067533  0.083617  0.0997\n",
       " 8.0   0.05415  0.070233  0.086317  0.1024\n",
       " 12.0  0.05725  0.073333  0.089417  0.1055\n",
       " 16.0  0.06185  0.077933  0.094017  0.1101\n",
       " 20.0  0.06725  0.083333  0.099417  0.1155\n",
       " 24.0  0.07325  0.089333  0.105417  0.1215"
      ]
     },
     "execution_count": 16,
     "metadata": {},
     "output_type": "execute_result"
    }
   ],
   "source": [
    "#C_x_full calculation\n",
    "C_x_full = np.zeros([8,4])\n",
    "for i in range (4):\n",
    "    for j in range (8):\n",
    "        C_x_full[j,i] = data[j,2]+C_x_bad[i]*1.15\n",
    "pd.DataFrame(C_x_full,index=data[:,0],columns=[\"p30\",\"p40\",\"p50\",\"p60\"])"
   ]
  },
  {
   "attachments": {},
   "cell_type": "markdown",
   "id": "92c8e7ae",
   "metadata": {},
   "source": [
    "Построим скорректированные поляры для каждого удельного давления на крыло"
   ]
  },
  {
   "cell_type": "code",
   "execution_count": 17,
   "id": "799e6f40",
   "metadata": {},
   "outputs": [
    {
     "data": {
      "image/png": "[encoded data removed]",
      "text/plain": [
       "<Figure size 864x432 with 1 Axes>"
      ]
     },
     "metadata": {
      "needs_background": "light"
     },
     "output_type": "display_data"
    }
   ],
   "source": [
    "# Построение поляр\n",
    "fig2, ax = plt.subplots(figsize=(12, 6))\n",
    "ax.plot(data[:,2], data[:,1],color='tab:pink',label=\"no corr\") \n",
    "ax.plot(C_x_full[:,0], data[:,1],color='tab:red',label=\"p30\") \n",
    "ax.plot(C_x_full[:,1], data[:,1],color='tab:orange',label=\"p40\")\n",
    "ax.plot(C_x_full[:,2], data[:,1],color='tab:green',label=\"p50\")\n",
    "ax.plot(C_x_full[:,3], data[:,1],color='tab:blue',label=\"p60\")\n",
    "ax.set_xlabel(\"Cx\")\n",
    "ax.set_ylabel(\"Cy\")\n",
    "ax.legend()\n",
    "plt.show()"
   ]
  },
  {
   "attachments": {},
   "cell_type": "markdown",
   "id": "55129184",
   "metadata": {},
   "source": [
    "Построим график аэродинамического качества модели"
   ]
  },
  {
   "cell_type": "code",
   "execution_count": 18,
   "id": "79b36a17",
   "metadata": {},
   "outputs": [
    {
     "data": {
      "image/png": "[encoded data removed]",
      "text/plain": [
       "<Figure size 864x432 with 1 Axes>"
      ]
     },
     "metadata": {
      "needs_background": "light"
     },
     "output_type": "display_data"
    }
   ],
   "source": [
    "# Построение графиков аэродинамического качества для разных удельных давлений\n",
    "C_y_full = data[:,1]\n",
    "K = np.zeros([8,4])\n",
    "for i in range (4):\n",
    "    for j in range (8):\n",
    "        K[j,i] = C_y_full[j]/C_x_full[j,i]\n",
    "#K_0 = C_y_full/C_x_full[:,0]\n",
    "#K_1 = C_y_full/C_x_full[:,1]\n",
    "#K_2 = C_y_full/C_x_full[:,2]\n",
    "#K_3 = C_y_full/C_x_full[:,3]\n",
    "fig3, ax = plt.subplots(figsize=(12, 6))\n",
    "ax.plot(data[:,0], K[:,0] ,color='tab:red',label = 'p30')\n",
    "ax.plot(data[:,0], K[:,1] ,color='tab:orange',label = 'p40')\n",
    "ax.plot(data[:,0], K[:,2] ,color='tab:green',label = 'p50')\n",
    "ax.plot(data[:,0], K[:,3] ,color='tab:blue',label = 'p60')\n",
    "ax.set_xlabel(\"Угол, град\")\n",
    "ax.set_ylabel(\"Аэродин. кач-во К\")\n",
    "ax.legend()\n",
    "plt.show()\n"
   ]
  },
  {
   "cell_type": "code",
   "execution_count": 19,
   "id": "42cb87a0",
   "metadata": {},
   "outputs": [
    {
     "data": {
      "image/png": "[encoded data removed]",
      "text/plain": [
       "<Figure size 864x1728 with 2 Axes>"
      ]
     },
     "metadata": {
      "needs_background": "light"
     },
     "output_type": "display_data"
    }
   ],
   "source": [
    "# Построение зависимостей Cy/Cx от угла и Cx/Cy^3/2 от угла\n",
    "param1 = np.zeros([8,4])\n",
    "param2 = np.zeros([8,4])\n",
    "\n",
    "\n",
    "for i in range (4):\n",
    "    for j in range (8):\n",
    "        param1[j,i] = C_y_full[i]/C_x_full[j,i]\n",
    "        param2[j,i] = C_x_full[j,i]/(C_y_full[i]**(3/2))\n",
    "\n",
    "fig4, ax = plt.subplots(2,1,figsize=(12, 24))\n",
    "ax[0].plot(data[:,0], param1[:,0] ,color='tab:red',label=\"30 Н/м2\")\n",
    "ax[0].plot(data[:,0], param1[:,1] ,color='tab:orange',label=\"40 Н/м2\")\n",
    "ax[0].plot(data[:,0], param1[:,2] ,color='tab:green',label=\"50 Н/м2\")\n",
    "ax[0].plot(data[:,0], param1[:,3] ,color='tab:blue',label=\"60 Н/м2\")\n",
    "\n",
    "ax[0].set_xlabel(\"Угол, град\")\n",
    "ax[0].set_ylabel(\"Cy/Cx \")\n",
    "ax[0].legend()\n",
    "ax[1].plot(data[:,0], param2[:,0] ,color='tab:red',label=\"30 Н/м2\")\n",
    "ax[1].plot(data[:,0], param2[:,1] ,color='tab:orange',label=\"40 Н/м2\")\n",
    "ax[1].plot(data[:,0], param2[:,2] ,color='tab:green',label=\"50 Н/м2\")\n",
    "ax[1].plot(data[:,0], param2[:,3] ,color='tab:blue',label=\"60 Н/м2\")\n",
    "ax[1].set_xlabel(\"Угол, град\")\n",
    "ax[1].set_ylabel(\"Cx/Cy^(3/2) \")\n",
    "ax[1].legend()\n",
    "plt.show()\n"
   ]
  },
  {
   "attachments": {},
   "cell_type": "markdown",
   "id": "48816cc4",
   "metadata": {},
   "source": [
    "Расчет скорости горизонтального полета"
   ]
  },
  {
   "cell_type": "code",
   "execution_count": 20,
   "id": "10e1f2c0",
   "metadata": {},
   "outputs": [
    {
     "data": {
      "text/html": [
       "<div>\n",
       "<style scoped>\n",
       "    .dataframe tbody tr th:only-of-type {\n",
       "        vertical-align: middle;\n",
       "    }\n",
       "\n",
       "    .dataframe tbody tr th {\n",
       "        vertical-align: top;\n",
       "    }\n",
       "\n",
       "    .dataframe thead th {\n",
       "        text-align: right;\n",
       "    }\n",
       "</style>\n",
       "<table border=\"1\" class=\"dataframe\">\n",
       "  <thead>\n",
       "    <tr style=\"text-align: right;\">\n",
       "      <th></th>\n",
       "      <th>p30</th>\n",
       "      <th>p40</th>\n",
       "      <th>p50</th>\n",
       "      <th>p60</th>\n",
       "    </tr>\n",
       "  </thead>\n",
       "  <tbody>\n",
       "    <tr>\n",
       "      <th>-4.0</th>\n",
       "      <td>34.665382</td>\n",
       "      <td>40.000000</td>\n",
       "      <td>40.000000</td>\n",
       "      <td>40.000000</td>\n",
       "    </tr>\n",
       "    <tr>\n",
       "      <th>0.0</th>\n",
       "      <td>12.658008</td>\n",
       "      <td>14.616208</td>\n",
       "      <td>16.341418</td>\n",
       "      <td>17.901126</td>\n",
       "    </tr>\n",
       "    <tr>\n",
       "      <th>4.0</th>\n",
       "      <td>9.264713</td>\n",
       "      <td>10.697969</td>\n",
       "      <td>11.960693</td>\n",
       "      <td>13.102283</td>\n",
       "    </tr>\n",
       "    <tr>\n",
       "      <th>8.0</th>\n",
       "      <td>7.564607</td>\n",
       "      <td>8.734855</td>\n",
       "      <td>9.765865</td>\n",
       "      <td>10.697969</td>\n",
       "    </tr>\n",
       "    <tr>\n",
       "      <th>12.0</th>\n",
       "      <td>6.671356</td>\n",
       "      <td>7.703418</td>\n",
       "      <td>8.612683</td>\n",
       "      <td>9.434722</td>\n",
       "    </tr>\n",
       "    <tr>\n",
       "      <th>16.0</th>\n",
       "      <td>5.989266</td>\n",
       "      <td>6.915808</td>\n",
       "      <td>7.732109</td>\n",
       "      <td>8.470101</td>\n",
       "    </tr>\n",
       "    <tr>\n",
       "      <th>20.0</th>\n",
       "      <td>5.550904</td>\n",
       "      <td>6.409631</td>\n",
       "      <td>7.166186</td>\n",
       "      <td>7.850163</td>\n",
       "    </tr>\n",
       "    <tr>\n",
       "      <th>24.0</th>\n",
       "      <td>5.196560</td>\n",
       "      <td>6.000471</td>\n",
       "      <td>6.708731</td>\n",
       "      <td>7.349046</td>\n",
       "    </tr>\n",
       "  </tbody>\n",
       "</table>\n",
       "</div>"
      ],
      "text/plain": [
       "             p30        p40        p50        p60\n",
       "-4.0   34.665382  40.000000  40.000000  40.000000\n",
       " 0.0   12.658008  14.616208  16.341418  17.901126\n",
       " 4.0    9.264713  10.697969  11.960693  13.102283\n",
       " 8.0    7.564607   8.734855   9.765865  10.697969\n",
       " 12.0   6.671356   7.703418   8.612683   9.434722\n",
       " 16.0   5.989266   6.915808   7.732109   8.470101\n",
       " 20.0   5.550904   6.409631   7.166186   7.850163\n",
       " 24.0   5.196560   6.000471   6.708731   7.349046"
      ]
     },
     "execution_count": 20,
     "metadata": {},
     "output_type": "execute_result"
    }
   ],
   "source": [
    "# Расчет скоростей полета для каждого удельного давления\n",
    "V_plane = np.zeros([8,4])\n",
    "for i in range (4):\n",
    "    for j in range (8):\n",
    "        V_plane[j,i] = 1.278*math.sqrt(p_wing[i]/C_y_full[j])\n",
    "V_plane[V_plane > 40] = 40\n",
    "pd.DataFrame(V_plane,index=data[:,0],columns=[\"p30\",\"p40\",\"p50\",\"p60\"])"
   ]
  },
  {
   "cell_type": "code",
   "execution_count": 21,
   "id": "801b7806",
   "metadata": {},
   "outputs": [
    {
     "data": {
      "text/html": [
       "<div>\n",
       "<style scoped>\n",
       "    .dataframe tbody tr th:only-of-type {\n",
       "        vertical-align: middle;\n",
       "    }\n",
       "\n",
       "    .dataframe tbody tr th {\n",
       "        vertical-align: top;\n",
       "    }\n",
       "\n",
       "    .dataframe thead th {\n",
       "        text-align: right;\n",
       "    }\n",
       "</style>\n",
       "<table border=\"1\" class=\"dataframe\">\n",
       "  <thead>\n",
       "    <tr style=\"text-align: right;\">\n",
       "      <th></th>\n",
       "      <th>p30</th>\n",
       "      <th>p40</th>\n",
       "      <th>p50</th>\n",
       "      <th>p60</th>\n",
       "    </tr>\n",
       "  </thead>\n",
       "  <tbody>\n",
       "    <tr>\n",
       "      <th>-4.0</th>\n",
       "      <td>54.121302</td>\n",
       "      <td>78.533294</td>\n",
       "      <td>94.616618</td>\n",
       "      <td>110.699942</td>\n",
       "    </tr>\n",
       "    <tr>\n",
       "      <th>0.0</th>\n",
       "      <td>2.111776</td>\n",
       "      <td>3.222060</td>\n",
       "      <td>4.478454</td>\n",
       "      <td>5.865599</td>\n",
       "    </tr>\n",
       "    <tr>\n",
       "      <th>4.0</th>\n",
       "      <td>0.851195</td>\n",
       "      <td>1.290123</td>\n",
       "      <td>1.785916</td>\n",
       "      <td>2.332673</td>\n",
       "    </tr>\n",
       "    <tr>\n",
       "      <th>8.0</th>\n",
       "      <td>0.487647</td>\n",
       "      <td>0.730331</td>\n",
       "      <td>1.003520</td>\n",
       "      <td>1.304133</td>\n",
       "    </tr>\n",
       "    <tr>\n",
       "      <th>12.0</th>\n",
       "      <td>0.353643</td>\n",
       "      <td>0.523071</td>\n",
       "      <td>0.713071</td>\n",
       "      <td>0.921632</td>\n",
       "    </tr>\n",
       "    <tr>\n",
       "      <th>16.0</th>\n",
       "      <td>0.276445</td>\n",
       "      <td>0.402218</td>\n",
       "      <td>0.542498</td>\n",
       "      <td>0.695939</td>\n",
       "    </tr>\n",
       "    <tr>\n",
       "      <th>20.0</th>\n",
       "      <td>0.239294</td>\n",
       "      <td>0.342395</td>\n",
       "      <td>0.456691</td>\n",
       "      <td>0.581214</td>\n",
       "    </tr>\n",
       "    <tr>\n",
       "      <th>24.0</th>\n",
       "      <td>0.213847</td>\n",
       "      <td>0.301147</td>\n",
       "      <td>0.397310</td>\n",
       "      <td>0.501634</td>\n",
       "    </tr>\n",
       "  </tbody>\n",
       "</table>\n",
       "</div>"
      ],
      "text/plain": [
       "             p30        p40        p50         p60\n",
       "-4.0   54.121302  78.533294  94.616618  110.699942\n",
       " 0.0    2.111776   3.222060   4.478454    5.865599\n",
       " 4.0    0.851195   1.290123   1.785916    2.332673\n",
       " 8.0    0.487647   0.730331   1.003520    1.304133\n",
       " 12.0   0.353643   0.523071   0.713071    0.921632\n",
       " 16.0   0.276445   0.402218   0.542498    0.695939\n",
       " 20.0   0.239294   0.342395   0.456691    0.581214\n",
       " 24.0   0.213847   0.301147   0.397310    0.501634"
      ]
     },
     "execution_count": 21,
     "metadata": {},
     "output_type": "execute_result"
    }
   ],
   "source": [
    "# Расчет скоростей снижения для каждого удельного давления\n",
    "Vy = np.zeros([8,4])\n",
    "Vy = V_plane/K\n",
    "pd.DataFrame(Vy,index=data[:,0],columns=[\"p30\",\"p40\",\"p50\",\"p60\"])"
   ]
  },
  {
   "cell_type": "code",
   "execution_count": 22,
   "id": "6fba75f7",
   "metadata": {},
   "outputs": [
    {
     "data": {
      "image/png": "[encoded data removed]",
      "text/plain": [
       "<Figure size 864x432 with 1 Axes>"
      ]
     },
     "metadata": {
      "needs_background": "light"
     },
     "output_type": "display_data"
    }
   ],
   "source": [
    "# Построение графиков зависимости скорости снижения от общей скорости\n",
    "fig3, ax = plt.subplots(figsize=(12, 6))\n",
    "plt.axis([4.5, 17, -6, 0])\n",
    "for i in range (4):\n",
    "    ax.plot(V_plane[:,i], -Vy[:,i] ,color=(1-0.1*i, 0.2*i, 1-0.05*i),label=(10*i+30))\n",
    "ax.set_xlabel(\"Скорость полная V, м/с\")\n",
    "ax.set_ylabel(\"Скорость снижения Vy, м/с\")\n",
    "ax.legend()\n",
    "plt.show()"
   ]
  },
  {
   "cell_type": "code",
   "execution_count": 23,
   "id": "ebeac35d",
   "metadata": {},
   "outputs": [
    {
     "data": {
      "text/plain": [
       "array([[0.    , 0.    , 0.    , 0.    , 0.    , 0.    , 0.    ],\n",
       "       [0.0025, 0.0015, 0.0012, 0.001 , 0.0008, 0.0007, 0.0006],\n",
       "       [0.0102, 0.0063, 0.0051, 0.0042, 0.0034, 0.0028, 0.0026],\n",
       "       [0.0229, 0.014 , 0.011 , 0.0095, 0.0076, 0.0064, 0.0057],\n",
       "       [0.0408, 0.025 , 0.02  , 0.017 , 0.0136, 0.0113, 0.0102],\n",
       "       [0.0637, 0.039 , 0.031 , 0.026 , 0.0212, 0.0177, 0.0159],\n",
       "       [0.0917, 0.057 , 0.046 , 0.038 , 0.0306, 0.0255, 0.0229],\n",
       "       [0.1248, 0.077 , 0.062 , 0.052 , 0.0416, 0.0347, 0.0312],\n",
       "       [0.1631, 0.101 , 0.085 , 0.068 , 0.0544, 0.0453, 0.0408]])"
      ]
     },
     "execution_count": 23,
     "metadata": {},
     "output_type": "execute_result"
    }
   ],
   "source": [
    "#V = np.linspace(1, 20, 20)\n",
    "Cy = np.linspace(0.,1.6,9) \n",
    "lmb = np.array([5, 8, 10, 12, 15, 18, 20])\n",
    "\n",
    "Cy_lmb = np.array([[0,0,0,0,0,0,0], \n",
    "                  [0.0025,0.0015,0.0012,0.0010,0.0008,0.0007,0.0006],\n",
    "                  [0.0102,0.0063,0.0051,0.0042,0.0034,0.0028,0.0026],\n",
    "                  [0.0229,0.0140,0.0110,0.0095,0.0076,0.0064,0.0057],\n",
    "                  [0.0408,0.0250,0.0200,0.0170,0.0136,0.0113,0.0102],\n",
    "                  [0.0637,0.0390,0.0310,0.0260,0.0212,0.0177,0.0159],\n",
    "                  [0.0917,0.0570,0.0460,0.0380,0.0306,0.0255,0.0229],\n",
    "                  [0.1248,0.0770,0.0620,0.0520,0.0416,0.0347,0.0312],\n",
    "                  [0.1631,0.1010,0.0850,0.0680,0.0544,0.0453,0.0408]])\n",
    "\n",
    "#df = pd.DataFrame({ lmb[0]: [Cy_lmb[:,0]] \n",
    "Cy_lmb"
   ]
  },
  {
   "attachments": {},
   "cell_type": "markdown",
   "id": "96cebd20",
   "metadata": {},
   "source": [
    "# Подготовка данных к переносу в Autodesk Fusion"
   ]
  },
  {
   "cell_type": "code",
   "execution_count": 24,
   "id": "b8fbd81d",
   "metadata": {},
   "outputs": [],
   "source": [
    "# Импорт координат профиля крыла из атласа профилей\n",
    "df_profile = pd.read_csv('../Script/Profile_calc4/Р-III (15,5%)-Исходные данные профиля.csv',delimiter=',')\n",
    "profile = df_profile.to_numpy()\n",
    "#profile"
   ]
  },
  {
   "cell_type": "code",
   "execution_count": 25,
   "id": "376b2483",
   "metadata": {},
   "outputs": [
    {
     "data": {
      "text/plain": [
       "array([[ 0.    ,  0.    ],\n",
       "       [ 0.005 , -0.0106],\n",
       "       [ 0.01  , -0.0145],\n",
       "       [ 0.02  , -0.0195],\n",
       "       [ 0.03  , -0.0223],\n",
       "       [ 0.05  , -0.0263],\n",
       "       [ 0.07  , -0.029 ],\n",
       "       [ 0.1   , -0.0312],\n",
       "       [ 0.15  , -0.0325],\n",
       "       [ 0.2   , -0.0331],\n",
       "       [ 0.25  , -0.0332],\n",
       "       [ 0.3   , -0.0326],\n",
       "       [ 0.4   , -0.0308],\n",
       "       [ 0.5   , -0.0274],\n",
       "       [ 0.6   , -0.023 ],\n",
       "       [ 0.7   , -0.018 ],\n",
       "       [ 0.8   , -0.0122],\n",
       "       [ 0.9   ,  0.    ],\n",
       "       [ 1.    ,  0.    ],\n",
       "       [ 1.    ,  0.    ],\n",
       "       [ 0.9   ,  0.019 ],\n",
       "       [ 0.8   ,  0.038 ],\n",
       "       [ 0.7   ,  0.057 ],\n",
       "       [ 0.6   ,  0.076 ],\n",
       "       [ 0.5   ,  0.094 ],\n",
       "       [ 0.4   ,  0.109 ],\n",
       "       [ 0.3   ,  0.1192],\n",
       "       [ 0.25  ,  0.1218],\n",
       "       [ 0.2   ,  0.1218],\n",
       "       [ 0.15  ,  0.117 ],\n",
       "       [ 0.1   ,  0.104 ],\n",
       "       [ 0.07  ,  0.0905],\n",
       "       [ 0.05  ,  0.0775],\n",
       "       [ 0.03  ,  0.06  ],\n",
       "       [ 0.02  ,  0.0484],\n",
       "       [ 0.01  ,  0.033 ],\n",
       "       [ 0.005 ,  0.023 ],\n",
       "       [ 0.    ,  0.    ]])"
      ]
     },
     "execution_count": 25,
     "metadata": {},
     "output_type": "execute_result"
    }
   ],
   "source": [
    "# Формирование цепочки точек сплайна из полученной таблицы\n",
    "index_up = np.array(range(18+19,18,-1))\n",
    "df_profile_up = pd.DataFrame(np.array([profile[:,0],profile[:,1]]),columns=index_up)\n",
    "index_down = np.array(range(0,19,1))\n",
    "df_profile_down = pd.DataFrame(np.array([profile[:,0],profile[:,2]]),columns=index_down)\n",
    "df_profile_build = pd.concat([df_profile_down.T,df_profile_up.T])\n",
    "df_profile_build = df_profile_build.sort_index()\n",
    "profile_build = df_profile_build.to_numpy()\n",
    "profile_build\n"
   ]
  },
  {
   "cell_type": "code",
   "execution_count": 111,
   "id": "13c72b09",
   "metadata": {},
   "outputs": [
    {
     "data": {
      "text/plain": [
       "'\\n0-Р30\\n1-Р40\\n2-Р50\\n3-Р60\\n'"
      ]
     },
     "execution_count": 111,
     "metadata": {},
     "output_type": "execute_result"
    }
   ],
   "source": [
    "# Коэффициент масштаба для экспора во Fusion \n",
    "Scale = 0.1 # Почему-то fusion этот коэффициент воспринимает как миллиметры\n",
    "Select_type = 2 # выбранные данные из рассчитанного набора\n",
    "\"\"\"\n",
    "0-Р30\n",
    "1-Р40\n",
    "2-Р50\n",
    "3-Р60\n",
    "\"\"\""
   ]
  },
  {
   "cell_type": "code",
   "execution_count": 119,
   "id": "54ea7d6c",
   "metadata": {},
   "outputs": [],
   "source": [
    "# Функция по сбору CSV файла из входных данных\n",
    "def CSV_profile_creation(b,move_X,move_Y,move_Z,csv_dataname):\n",
    "    # Двигаем профиль в сторону (в данном расчете Z-перемещение вправо)\n",
    "    profile_Z = np.ones(38)*move_Z # мм\n",
    "    # Увеличиваем импортированный профиль пропорционально рассчитанным значениям\n",
    "    # (стоит учесть, что профиль строится от условного 0 до условной 1)\n",
    "    profile_b = profile_build * b # мм\n",
    "    # Смещение профиля по осям X\n",
    "    profile_XY = profile_b[:,:] + [move_X,move_Y]\n",
    "    # Присоединение колонки оси Z r jcnfkmysv lfyysv\n",
    "    profile_XYZ = np.insert(profile_XY,2,profile_Z,axis=1)\n",
    "    # Перепаковка Numpy в Pandas для экспорта в csv\n",
    "    df_profile_XYZ = pd.DataFrame(profile_XYZ)*Scale\n",
    "    # Формирование имени файла\n",
    "    out_name = csv_dataname + '.csv'\n",
    "    # Экспорт CSV файла\n",
    "    df_profile_XYZ.to_csv(out_name,index=False,header=False)\n",
    "    \n",
    "    return('Export CSV file \"' + out_name + '\" is done')"
   ]
  },
  {
   "cell_type": "code",
   "execution_count": 132,
   "id": "978263d7",
   "metadata": {},
   "outputs": [
    {
     "data": {
      "text/plain": [
       "'Export CSV file \"test1.csv\" is done'"
      ]
     },
     "execution_count": 132,
     "metadata": {},
     "output_type": "execute_result"
    }
   ],
   "source": [
    "CSV_profile_creation(150,0,0,0,'wing_base')\n",
    "CSV_profile_creation(150,0,0,-l_wing[Select_type]/2,'wing_left')\n",
    "CSV_profile_creation(150,0,0,l_wing[Select_type]/2,'wing_right')\n",
    "CSV_profile_creation(150,0,0,0,'stab_base')\n",
    "CSV_profile_creation(150,0,0,-l_stab[Select_type]/2,'stab_left')\n",
    "CSV_profile_creation(150,0,0,l_stab[Select_type]/2,'stab_right')\n"
   ]
  },
  {
   "cell_type": "code",
   "execution_count": 133,
   "id": "c3c19295",
   "metadata": {},
   "outputs": [],
   "source": [
    "profile_wing_l_Z = np.ones(38)*l_wing[2]/2 \n",
    "profile_wing_r_Z = - profile_wing_l_Z\n",
    "profile_wing_b_Z = np.zeros(38)\n",
    "profile_stab_l_Z = np.ones(38)*l_stab[2]/2 \n",
    "profile_stab_r_Z = - profile_stab_l_Z\n",
    "profile_stab_b_Z = np.zeros(38)\n",
    "\n"
   ]
  },
  {
   "cell_type": "code",
   "execution_count": 134,
   "id": "3054d568",
   "metadata": {},
   "outputs": [],
   "source": [
    "profile_wing_b = profile_build * b_wing_base[2]\n",
    "\n",
    "profile_wing_b = np.insert(profile_wing_b,2,profile_wing_b_Z,axis=1)\n",
    "profile_wing_b[:,0] = profile_wing_b[:,0]-X_t[2]\n",
    "df_profile_wing_b = pd.DataFrame(profile_wing_b)*Scale\n",
    "df_profile_wing_b.to_csv('Profile_wing_base.csv',index=False,header=False)"
   ]
  },
  {
   "cell_type": "code",
   "execution_count": 135,
   "id": "6f9cfb94",
   "metadata": {},
   "outputs": [
    {
     "data": {
      "text/plain": [
       "array([0.97146762, 0.97146762, 0.97146762, 0.97146762, 0.97146762,\n",
       "       0.97146762, 0.97146762, 0.97146762, 0.97146762, 0.97146762,\n",
       "       0.97146762, 0.97146762, 0.97146762, 0.97146762, 0.97146762,\n",
       "       0.97146762, 0.97146762, 0.97146762, 0.97146762, 0.97146762,\n",
       "       0.97146762, 0.97146762, 0.97146762, 0.97146762, 0.97146762,\n",
       "       0.97146762, 0.97146762, 0.97146762, 0.97146762, 0.97146762,\n",
       "       0.97146762, 0.97146762, 0.97146762, 0.97146762, 0.97146762,\n",
       "       0.97146762, 0.97146762, 0.97146762])"
      ]
     },
     "execution_count": 135,
     "metadata": {},
     "output_type": "execute_result"
    }
   ],
   "source": [
    "profile_wing_l_Z"
   ]
  },
  {
   "cell_type": "code",
   "execution_count": 136,
   "id": "a40f3361",
   "metadata": {},
   "outputs": [
    {
     "data": {
      "text/plain": [
       "array([[-4.66304457e-02,  5.00000000e-02,  9.71467618e-01],\n",
       "       [-4.60356696e-02,  4.87390747e-02,  9.71467618e-01],\n",
       "       [-4.54408935e-02,  4.82751493e-02,  9.71467618e-01],\n",
       "       [-4.42513413e-02,  4.76803732e-02,  9.71467618e-01],\n",
       "       [-4.30617891e-02,  4.73472986e-02,  9.71467618e-01],\n",
       "       [-4.06826847e-02,  4.68714778e-02,  9.71467618e-01],\n",
       "       [-3.83035804e-02,  4.65502987e-02,  9.71467618e-01],\n",
       "       [-3.47349238e-02,  4.62885972e-02,  9.71467618e-01],\n",
       "       [-2.87871629e-02,  4.61339554e-02,  9.71467618e-01],\n",
       "       [-2.28394020e-02,  4.60625823e-02,  9.71467618e-01],\n",
       "       [-1.68916410e-02,  4.60506867e-02,  9.71467618e-01],\n",
       "       [-1.09438801e-02,  4.61220599e-02,  9.71467618e-01],\n",
       "       [ 9.51641749e-04,  4.63361793e-02,  9.71467618e-01],\n",
       "       [ 1.28471636e-02,  4.67406270e-02,  9.71467618e-01],\n",
       "       [ 2.47426855e-02,  4.72640300e-02,  9.71467618e-01],\n",
       "       [ 3.66382073e-02,  4.78588061e-02,  9.71467618e-01],\n",
       "       [ 4.85337292e-02,  4.85487463e-02,  9.71467618e-01],\n",
       "       [ 6.04292510e-02,  5.00000000e-02,  9.71467618e-01],\n",
       "       [ 7.23247729e-02,  5.00000000e-02,  9.71467618e-01],\n",
       "       [ 7.23247729e-02,  5.00000000e-02,  9.71467618e-01],\n",
       "       [ 6.04292510e-02,  5.22601492e-02,  9.71467618e-01],\n",
       "       [ 4.85337292e-02,  5.45202983e-02,  9.71467618e-01],\n",
       "       [ 3.66382073e-02,  5.67804475e-02,  9.71467618e-01],\n",
       "       [ 2.47426855e-02,  5.90405966e-02,  9.71467618e-01],\n",
       "       [ 1.28471636e-02,  6.11817905e-02,  9.71467618e-01],\n",
       "       [ 9.51641749e-04,  6.29661188e-02,  9.71467618e-01],\n",
       "       [-1.09438801e-02,  6.41794621e-02,  9.71467618e-01],\n",
       "       [-1.68916410e-02,  6.44887456e-02,  9.71467618e-01],\n",
       "       [-2.28394020e-02,  6.44887456e-02,  9.71467618e-01],\n",
       "       [-2.87871629e-02,  6.39177606e-02,  9.71467618e-01],\n",
       "       [-3.47349238e-02,  6.23713427e-02,  9.71467618e-01],\n",
       "       [-3.83035804e-02,  6.07654473e-02,  9.71467618e-01],\n",
       "       [-4.06826847e-02,  5.92190294e-02,  9.71467618e-01],\n",
       "       [-4.30617891e-02,  5.71373131e-02,  9.71467618e-01],\n",
       "       [-4.42513413e-02,  5.57574326e-02,  9.71467618e-01],\n",
       "       [-4.54408935e-02,  5.39255222e-02,  9.71467618e-01],\n",
       "       [-4.60356696e-02,  5.27359700e-02,  9.71467618e-01],\n",
       "       [-4.66304457e-02,  5.00000000e-02,  9.71467618e-01]])"
      ]
     },
     "execution_count": 136,
     "metadata": {},
     "output_type": "execute_result"
    }
   ],
   "source": [
    "profile_wing_l = profile_build * b_wing_end[2]\n",
    "profile_wing_l = np.insert(profile_wing_l,2,profile_wing_l_Z,axis=1)\n",
    "profile_wing_l[:,0] = profile_wing_l[:,0]-X_t[2]\n",
    "profile_wing_l[:,1] = profile_wing_l[:,1]+0.05\n",
    "profile_wing_l"
   ]
  },
  {
   "cell_type": "code",
   "execution_count": 137,
   "id": "2c3cfd5d",
   "metadata": {},
   "outputs": [],
   "source": [
    "df_profile_wing_l = pd.DataFrame(profile_wing_l, columns=[\"X\",\"Y\",\"Z\"])*Scale\n",
    "df_profile_wing_l\n",
    "df_profile_wing_l.to_csv('Profile_wing_end.csv',index=False,header=False)"
   ]
  },
  {
   "cell_type": "code",
   "execution_count": null,
   "id": "921d74eb",
   "metadata": {},
   "outputs": [],
   "source": []
  },
  {
   "attachments": {},
   "cell_type": "markdown",
   "id": "e20a4de7",
   "metadata": {},
   "source": []
  }
 ],
 "metadata": {
  "kernelspec": {
   "display_name": "Python 3 (ipykernel)",
   "language": "python",
   "name": "python3"
  },
  "language_info": {
   "codemirror_mode": {
    "name": "ipython",
    "version": 3
   },
   "file_extension": ".py",
   "mimetype": "text/x-python",
   "name": "python",
   "nbconvert_exporter": "python",
   "pygments_lexer": "ipython3",
   "version": "3.9.7"
  }
 },
 "nbformat": 4,
 "nbformat_minor": 5
}
