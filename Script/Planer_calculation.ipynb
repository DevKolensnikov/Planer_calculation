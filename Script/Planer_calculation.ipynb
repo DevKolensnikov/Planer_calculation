{
 "cells": [
  {
   "attachments": {},
   "cell_type": "markdown",
   "id": "f2f090c8-23d6-4865-b7a6-10e57f875e16",
   "metadata": {},
   "source": [
    "# Скрипт для расчета параметров разрабатывваемого планера\n",
    "\n",
    "Данный скрипт предназначен для расчета основных параметров модельных планеров для дальнейшего их проектирования в любой CAD среде. \n",
    "\n",
    "Примечание: данный скрипт написан в соответствии с пошаговой инструкцией \"Step-by-step guide to calculating a light aircraft.pdf\""
   ]
  },
  {
   "attachments": {},
   "cell_type": "markdown",
   "id": "00eae862-74ba-4e99-959e-312a8dba778e",
   "metadata": {},
   "source": [
    "### ШАГ 1 - Техническое задание\n",
    "\n",
    "Параметры на этом шаге задаются вами в соответствии с вашеми целями"
   ]
  },
  {
   "cell_type": "code",
   "execution_count": 172,
   "id": "3d012e01-dd70-4e28-939f-8661a67ca2de",
   "metadata": {},
   "outputs": [],
   "source": [
    "#вес мотора\n",
    "w_motor = 53 #грамм\n",
    "\n",
    "#количество моторов\n",
    "n_motor = 1 #шт\n",
    "\n",
    "# вес регулятора скорости\n",
    "w_ESC = 27 #грамм\n",
    "\n",
    "# Количество регуляторов скорости\n",
    "n_ESC = 1 #шт\n",
    "\n",
    "# Примечание: Количество моторов может отличаться от количества регуляторов скорости:\n",
    "# n_motor >= n_ESC\n",
    "# Связано это с тем, что к некоторым моделям ESC можно подключить более одного двигателя\n",
    "\n",
    "# вес приемника управления\n",
    "w_receiver = 15 #грамм, модель \"FS-iA6B\"\n",
    "# Примечание: на борту планера могут быть и другие приёмники/передатчики. Основной приемник всегда один.\n",
    "\n",
    "#вес сервопривода\n",
    "w_servo = 13.4 #грамм, модель \"TowerPro MG90\"\n",
    "\n",
    "#количество сервоприводов\n",
    "n_servo = 4 #шт: на 2 Элерона, 1 Киль и 1 стабилизатор\n",
    "\n",
    "#вес аккумуляторной ячейки\n",
    "w_bat_cell = 49 #грамм, аккумуляторы типоразмера 18650\n",
    "\n",
    "#количество ячеек в сборке\n",
    "n_bat_cell = 3 #шт: схема сборки 3S1P\n",
    "\n",
    "#вес платы BMS\n",
    "w_BMS = 8.7 #грамм, модель \"https://market.yandex.ru/product--bms-kontroller-3s-40a-dlia-li-ion-iacheek-3-7v-18650-26650/962042505?cpc=2T9kpZW_tO7nKULPmvl-cva4O6LDJVEop73t09BR7d3y2ij9fpFed_mt24qkdfwQJ7Pf54fCx7iH058HGpijKiwhtUS_xHXpyrsLpwIxzeCVOFnJ8aZybHKGxXlB3MZ5vFFjLrIPIIUv9uOFnuHc82L9xa8Sz6aJhyRD8PvePM2yJCqBYsF0pUAJXoRPGebJCdcoqBKZ5Y1Pk8BY0jZ_cD9ljHs6ZXBMkdryP_U8z2kQvmxP5Sf6SoNRSHBEGSYnNzJr1iWyUS-KdgHCFAMtlQ%2C%2C&from-show-uid=16834608512406912852400001&sku=101324535512&do-waremd5=veTjfe9vPLUWdF41vjtbng&sponsored=1&cpa=1\"\n",
    "\n",
    "#вес аккумуляторной сборки/покупного аккумулятора\n",
    "w_bat = (w_bat_cell*n_bat_cell + w_BMS)*1.1 # вес самостоятельно собираемой батареи\n",
    "# w_bat = 145 # вес покупного аккумулятора\n",
    "\n",
    "#вес полезной нагрузки\n",
    "w_load = 250 #грамм, под полезной нагрузкой можно понимать любое доп. оборудование\n",
    "\n",
    "# Скорость сваливания в штопор\n",
    "V_pilling = 50 # км/ч\n",
    "\n"
   ]
  },
  {
   "attachments": {},
   "cell_type": "markdown",
   "id": "659763e5-e6a3-408d-a74d-c6a3a05d9c35",
   "metadata": {},
   "source": [
    "## Вес и геометрические размеры"
   ]
  },
  {
   "attachments": {},
   "cell_type": "markdown",
   "id": "cc36e3f5-dedf-4eb5-a23d-240dddbd9cf7",
   "metadata": {},
   "source": [
    "### ШАГ 2 - Определение взлетной массы в первом приближении"
   ]
  },
  {
   "cell_type": "code",
   "execution_count": 173,
   "id": "7765dc95-9517-440f-999c-75523254ed34",
   "metadata": {},
   "outputs": [
    {
     "data": {
      "text/plain": [
       "569.87"
      ]
     },
     "execution_count": 173,
     "metadata": {},
     "output_type": "execute_result"
    }
   ],
   "source": [
    "# Расчет взлетного веса планера в первом приближении\n",
    "G_insides = (w_motor*n_motor + w_ESC*n_ESC + w_servo*n_servo + w_bat + w_receiver + w_load)\n",
    "G_insides"
   ]
  },
  {
   "cell_type": "code",
   "execution_count": 174,
   "id": "6cc53181",
   "metadata": {},
   "outputs": [
    {
     "data": {
      "text/plain": [
       "1139.74"
      ]
     },
     "execution_count": 174,
     "metadata": {},
     "output_type": "execute_result"
    }
   ],
   "source": [
    "G_plane = G_insides*2\n",
    "G_plane"
   ]
  },
  {
   "attachments": {},
   "cell_type": "markdown",
   "id": "751804de",
   "metadata": {},
   "source": [
    "### ШАГ 3 - Определение массы элементов конструкции"
   ]
  },
  {
   "cell_type": "code",
   "execution_count": 175,
   "id": "d8a7e832-3950-4fe4-9c1a-6dcddb405dfb",
   "metadata": {},
   "outputs": [],
   "source": [
    "\n",
    "# Функция по уточненному расчету массы планера через долю его элементов от общей массы\n",
    "def mass_correction(w_plane,w_delta):\n",
    "    w_wing = (w_plane-w_delta)*0.17\n",
    "    w_fuselage = (w_plane-w_delta)*0.15\n",
    "    w_shassis = (w_plane-w_delta)*0.07\n",
    "    w_stabs = (w_plane-w_delta)*0.04\n",
    "    w_controlsys = (w_plane-w_delta)*0.02\n",
    "    w_plane_corr = w_plane - G_insides- w_wing -  w_fuselage - w_shassis - w_stabs - w_controlsys\n",
    "    prst_delta = w_plane_corr/w_plane*100\n",
    "    return prst_delta ,w_plane-w_plane_corr ,w_plane, w_wing , w_fuselage, w_shassis, w_stabs, w_controlsys\n"
   ]
  },
  {
   "cell_type": "code",
   "execution_count": 176,
   "id": "fdca60d3",
   "metadata": {},
   "outputs": [
    {
     "data": {
      "text/plain": [
       "(4.999999999999999,\n",
       " 1082.753,\n",
       " 1139.74,\n",
       " 193.75580000000002,\n",
       " 170.96099999999998,\n",
       " 79.7818,\n",
       " 45.589600000000004,\n",
       " 22.794800000000002)"
      ]
     },
     "execution_count": 176,
     "metadata": {},
     "output_type": "execute_result"
    }
   ],
   "source": [
    "calc = mass_correction (G_plane,0)\n",
    "calc    # Вывод рассчитанных масс:\n",
    "        # Скорректированная масса самолета, гр\n",
    "        # Первоначальная масса самолета, гр\n",
    "        # Масса крыла, гр\n",
    "        # Масса шасси, гр\n",
    "        # Масса стабилизатора, гр\n",
    "        # Масса органов управления, гр       "
   ]
  },
  {
   "cell_type": "code",
   "execution_count": 177,
   "id": "08badc05",
   "metadata": {},
   "outputs": [
    {
     "data": {
      "text/plain": [
       "1082.753"
      ]
     },
     "execution_count": 177,
     "metadata": {},
     "output_type": "execute_result"
    }
   ],
   "source": [
    "G_plane = calc[1]\n",
    "G_plane"
   ]
  },
  {
   "attachments": {},
   "cell_type": "markdown",
   "id": "a333887e",
   "metadata": {},
   "source": [
    "На данном этапе мы получили скорректированную массу планера, а именно снизили её на 5%. \n",
    "\n",
    "Примечание: в исходном документе при расчете уточненной массы на ШАГЕ 3 допущена ошибка: складывается число \"62\" вместо \"72\", в результате чего получается 4 ШАГ - уточнение результатов. 4 Шага быть впринципе не должно, потому что какие бы мы числа не подставили, разница между грубой прикидкой и более точным расчетом всегда составит 5%. В связи с этим в нашем расчете ШАГ 4  мы пропускаем и сразу переходим к шагу 5."
   ]
  },
  {
   "attachments": {},
   "cell_type": "markdown",
   "id": "d350916a",
   "metadata": {},
   "source": [
    "### ШАГ 5 - Определение потребной площади крыла"
   ]
  },
  {
   "attachments": {},
   "cell_type": "markdown",
   "id": "3061e288",
   "metadata": {},
   "source": [
    "Зная взлетный вес самолета и требуемую скорость сваливания определяем потребную площадь крыла по\n",
    "формуле:\n",
    "\n",
    "$$S_{кр}= 207 \\frac{G_{взл}}{C_{ya_{max}}* V_{св}^2}$$"
   ]
  },
  {
   "cell_type": "code",
   "execution_count": 178,
   "id": "9e6794e1",
   "metadata": {},
   "outputs": [
    {
     "data": {
      "text/plain": [
       "2.623242872191011"
      ]
     },
     "execution_count": 178,
     "metadata": {},
     "output_type": "execute_result"
    }
   ],
   "source": [
    "C_ya_max = 1.78 #Профиль P-III (15,5%), угол атаки 24 градуса\n",
    "S_wing_min = 207*G_plane/1000/C_ya_max/(V_pilling^2)\n",
    "S_wing_min"
   ]
  },
  {
   "attachments": {},
   "cell_type": "markdown",
   "id": "87e36b56",
   "metadata": {},
   "source": []
  }
 ],
 "metadata": {
  "kernelspec": {
   "display_name": "Python 3 (ipykernel)",
   "language": "python",
   "name": "python3"
  },
  "language_info": {
   "codemirror_mode": {
    "name": "ipython",
    "version": 3
   },
   "file_extension": ".py",
   "mimetype": "text/x-python",
   "name": "python",
   "nbconvert_exporter": "python",
   "pygments_lexer": "ipython3",
   "version": "3.9.6"
  }
 },
 "nbformat": 4,
 "nbformat_minor": 5
}
