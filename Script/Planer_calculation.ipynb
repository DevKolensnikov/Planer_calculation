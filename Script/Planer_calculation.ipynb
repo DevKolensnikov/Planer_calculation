{
 "cells": [
  {
   "cell_type": "markdown",
   "id": "f2f090c8-23d6-4865-b7a6-10e57f875e16",
   "metadata": {},
   "source": [
    "# Скрипт для расчета параметров разрабатывваемого планера\n",
    "\n",
    "Данный скрипт предназначен для расчета основных параметров модельных планеров для дальнейшего их проектирования в любой CAD среде. \n",
    "\n",
    "Примечание: данный скрипт написан в соответствии с пошаговой инструкцией \"Step-by-step guide to calculating a light aircraft.pdf\""
   ]
  },
  {
   "cell_type": "markdown",
   "id": "00eae862-74ba-4e99-959e-312a8dba778e",
   "metadata": {},
   "source": [
    "### ШАГ 1 - Техническое задание\n",
    "\n",
    "Параметры на этом шаге задаются вами в соответствии с вашеми целями"
   ]
  },
  {
   "cell_type": "code",
   "execution_count": 9,
   "id": "3d012e01-dd70-4e28-939f-8661a67ca2de",
   "metadata": {},
   "outputs": [],
   "source": [
    "#вес мотора\n",
    "w_motor = 53 #грамм\n",
    "\n",
    "#количество моторов\n",
    "n_motor = 1 #шт\n",
    "\n",
    "# вес регулятора скорости\n",
    "w_ESC = 27 #грамм\n",
    "\n",
    "# Количество регуляторов скорости\n",
    "n_ESC = 1 #шт\n",
    "\n",
    "# Примечание: Количество моторов может отличаться от количества регуляторов скорости:\n",
    "# n_motor >= n_ESC\n",
    "# Связано это с тем, что к некоторым моделям ESC можно подключить более одного двигателя\n",
    "\n",
    "# вес приемника управления\n",
    "w_receiver = 15 #грамм, модель \"FS-iA6B\"\n",
    "# Примечание: на борту планера могут быть и другие приёмники/передатчики. Основной приемник всегда один.\n",
    "\n",
    "#вес сервопривода\n",
    "w_servo = 13.4 #грамм, модель \"TowerPro MG90\"\n",
    "\n",
    "#количество сервоприводов\n",
    "n_servo = 4 #шт: на 2 Элерона, 1 Киль и 1 стабилизатор\n",
    "\n",
    "#вес аккумуляторной ячейки\n",
    "w_bat_cell = 49 #грамм, аккумуляторы типоразмера 18650\n",
    "\n",
    "#количество ячеек в сборке\n",
    "n_bat_cell = 3 #шт: схема сборки 3S1P\n",
    "\n",
    "#вес платы BMS\n",
    "w_BMS = 8.7 #грамм, модель \"https://market.yandex.ru/product--bms-kontroller-3s-40a-dlia-li-ion-iacheek-3-7v-18650-26650/962042505?cpc=2T9kpZW_tO7nKULPmvl-cva4O6LDJVEop73t09BR7d3y2ij9fpFed_mt24qkdfwQJ7Pf54fCx7iH058HGpijKiwhtUS_xHXpyrsLpwIxzeCVOFnJ8aZybHKGxXlB3MZ5vFFjLrIPIIUv9uOFnuHc82L9xa8Sz6aJhyRD8PvePM2yJCqBYsF0pUAJXoRPGebJCdcoqBKZ5Y1Pk8BY0jZ_cD9ljHs6ZXBMkdryP_U8z2kQvmxP5Sf6SoNRSHBEGSYnNzJr1iWyUS-KdgHCFAMtlQ%2C%2C&from-show-uid=16834608512406912852400001&sku=101324535512&do-waremd5=veTjfe9vPLUWdF41vjtbng&sponsored=1&cpa=1\"\n",
    "\n",
    "#вес аккумуляторной сборки/покупного аккумулятора\n",
    "w_bat = (w_bat_cell*n_bat_cell + w_BMS)*1.1 # вес самостоятельно собираемой батареи\n",
    "# w_bat = 145 # вес покупного аккумулятора\n",
    "\n",
    "#вес полезной нагрузки\n",
    "w_load = 200 #грамм, под полезной нагрузкой можно понимать любое доп. оборудование\n",
    "\n",
    "# Скорость сваливания в штопор\n",
    "V_pilling = 15 # км/ч\n",
    "\n"
   ]
  },
  {
   "cell_type": "markdown",
   "id": "659763e5-e6a3-408d-a74d-c6a3a05d9c35",
   "metadata": {},
   "source": [
    "## Вес и геометрические размеры"
   ]
  },
  {
   "cell_type": "markdown",
   "id": "cc36e3f5-dedf-4eb5-a23d-240dddbd9cf7",
   "metadata": {},
   "source": [
    "### ШАГ 2 - Определение взлетной массы в первом приближении"
   ]
  },
  {
   "cell_type": "code",
   "execution_count": 10,
   "id": "7765dc95-9517-440f-999c-75523254ed34",
   "metadata": {},
   "outputs": [
    {
     "data": {
      "text/plain": [
       "519.87"
      ]
     },
     "execution_count": 10,
     "metadata": {},
     "output_type": "execute_result"
    }
   ],
   "source": [
    "# Расчет взлетного веса планера в первом приближении\n",
    "G_plane = w_motor*n_motor + w_ESC*n_ESC + w_servo*n_servo + w_bat + w_receiver + w_load\n",
    "G_plane"
   ]
  },
  {
   "cell_type": "code",
   "execution_count": null,
   "id": "d8a7e832-3950-4fe4-9c1a-6dcddb405dfb",
   "metadata": {},
   "outputs": [],
   "source": []
  }
 ],
 "metadata": {
  "kernelspec": {
   "display_name": "Python 3 (ipykernel)",
   "language": "python",
   "name": "python3"
  },
  "language_info": {
   "codemirror_mode": {
    "name": "ipython",
    "version": 3
   },
   "file_extension": ".py",
   "mimetype": "text/x-python",
   "name": "python",
   "nbconvert_exporter": "python",
   "pygments_lexer": "ipython3",
   "version": "3.9.7"
  }
 },
 "nbformat": 4,
 "nbformat_minor": 5
}
